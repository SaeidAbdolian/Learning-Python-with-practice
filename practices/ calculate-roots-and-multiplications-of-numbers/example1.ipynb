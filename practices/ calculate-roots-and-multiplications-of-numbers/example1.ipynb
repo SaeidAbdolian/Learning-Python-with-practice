{
  "nbformat": 4,
  "nbformat_minor": 0,
  "metadata": {
    "colab": {
      "name": "example1.ipynb",
      "provenance": [],
      "authorship_tag": "ABX9TyMwXPgdOyZa5+DNPzvLjDWw",
      "include_colab_link": true
    },
    "kernelspec": {
      "name": "python3",
      "display_name": "Python 3"
    }
  },
  "cells": [
    {
      "cell_type": "markdown",
      "metadata": {
        "id": "view-in-github",
        "colab_type": "text"
      },
      "source": [
        "<a href=\"https://colab.research.google.com/github/SaeidAbdolian/Learning-Python-with-practice/blob/main/practices/%20calculate-roots-and-multiplications-of-numbers/example1.ipynb\" target=\"_parent\"><img src=\"https://colab.research.google.com/assets/colab-badge.svg\" alt=\"Open In Colab\"/></a>"
      ]
    },
    {
      "cell_type": "code",
      "metadata": {
        "id": "DHi9lQoAUZJe"
      },
      "source": [
        "import numpy as np"
      ],
      "execution_count": 4,
      "outputs": []
    },
    {
      "cell_type": "code",
      "metadata": {
        "id": "wNbCkbdJXOyw",
        "colab": {
          "base_uri": "https://localhost:8080/"
        },
        "outputId": "be6739e0-56dc-47b2-e259-7fe323a205ab"
      },
      "source": [
        "x=np.random.randint(4, 100, size=20)\r\n",
        "print(x)\r\n",
        "y=1\r\n",
        "i=0\r\n",
        "while y !=0:\r\n",
        "  y=x[[i][0]]%7\r\n",
        "  i+=1\r\n",
        "\r\n",
        "mean = 0\r\n",
        "for m in range(i):\r\n",
        "  mean = mean + x[[m][0]]\r\n",
        "mean = mean/i\r\n",
        "\r\n",
        "print('value is = ',x[[i-1][0]])\r\n",
        "print('place of value is = ',i-1)\r\n",
        "print('mean is = ',mean)"
      ],
      "execution_count": 7,
      "outputs": [
        {
          "output_type": "stream",
          "text": [
            "[96 16 51 74 81 54  7 71 64 71 63 91 13 20 65 86 25 63 23 95]\n",
            "value is =  7\n",
            "place of value is =  6\n",
            "mean is =  54.142857142857146\n"
          ],
          "name": "stdout"
        }
      ]
    }
  ]
}