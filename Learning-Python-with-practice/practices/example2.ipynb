{
  "nbformat": 4,
  "nbformat_minor": 0,
  "metadata": {
    "colab": {
      "name": "example2.ipynb",
      "provenance": [],
      "authorship_tag": "ABX9TyPNkGJ6HcW/8qveVu1ohq83",
      "include_colab_link": true
    },
    "kernelspec": {
      "name": "python3",
      "display_name": "Python 3"
    }
  },
  "cells": [
    {
      "cell_type": "markdown",
      "metadata": {
        "id": "view-in-github",
        "colab_type": "text"
      },
      "source": [
        "<a href=\"https://colab.research.google.com/github/SaeidAbdolian/Learning-Python-with-practice/blob/main/Learning-Python-with-practice/practices/example2.ipynb\" target=\"_parent\"><img src=\"https://colab.research.google.com/assets/colab-badge.svg\" alt=\"Open In Colab\"/></a>"
      ]
    },
    {
      "cell_type": "code",
      "metadata": {
        "id": "5g3tRKH7k9Dk"
      },
      "source": [
        "eps = 0.1\r\n",
        "y =20\r\n",
        "yy = 0\r\n",
        "eps = 0.1\r\n",
        "x = 0"
      ],
      "execution_count": null,
      "outputs": []
    },
    {
      "cell_type": "code",
      "metadata": {
        "id": "qZ5OljwtlBs7"
      },
      "source": [
        "while yy < y:\r\n",
        "  yy = x + 2*(x+1)\r\n",
        "  x=x+eps"
      ],
      "execution_count": null,
      "outputs": []
    },
    {
      "cell_type": "code",
      "metadata": {
        "colab": {
          "base_uri": "https://localhost:8080/"
        },
        "id": "yvKqWUrhlq7_",
        "outputId": "22ab4a3b-e6ee-4247-f846-1f9182dae80c"
      },
      "source": [
        "x-0.1"
      ],
      "execution_count": null,
      "outputs": [
        {
          "output_type": "execute_result",
          "data": {
            "text/plain": [
              "6.099999999999994"
            ]
          },
          "metadata": {
            "tags": []
          },
          "execution_count": 45
        }
      ]
    }
  ]
}